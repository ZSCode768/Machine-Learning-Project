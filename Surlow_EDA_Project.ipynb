{
  "nbformat": 4,
  "nbformat_minor": 0,
  "metadata": {
    "colab": {
      "provenance": [],
      "mount_file_id": "1NOhtouBxDA0v_JNH3H5oe8ItM7LW0rTQ",
      "authorship_tag": "ABX9TyMAePVXsf2bppk+Xdd0J1oT",
      "include_colab_link": true
    },
    "kernelspec": {
      "name": "python3",
      "display_name": "Python 3"
    },
    "language_info": {
      "name": "python"
    }
  },
  "cells": [
    {
      "cell_type": "markdown",
      "metadata": {
        "id": "view-in-github",
        "colab_type": "text"
      },
      "source": [
        "<a href=\"https://colab.research.google.com/github/ZSCode768/Machine-Learning-Project/blob/main/Surlow_EDA_Project.ipynb\" target=\"_parent\"><img src=\"https://colab.research.google.com/assets/colab-badge.svg\" alt=\"Open In Colab\"/></a>"
      ]
    },
    {
      "cell_type": "markdown",
      "source": [
        "This notebook's purpose is to perform exploratory data analysis (EDA) on the \"Game Recommendations on Steam\" data set from kaggle. (https://www.kaggle.com/datasets/antonkozyriev/game-recommendations-on-steam)  The focus will be to understand the structure of the data, generate descriptive statistics,\n",
        "handle missing values, and create visualizations.\n",
        "\n",
        "## Key Objectives:\n",
        "1. Load the dataset and examine its structure.\n",
        "2. Perform basic cleaning and handle missing values.\n",
        "3. Generate descriptive statistics.\n",
        "4. Create visualizations to uncover insights."
      ],
      "metadata": {
        "id": "06Xj_WiAA8Op"
      }
    },
    {
      "cell_type": "code",
      "source": [
        "# Import necessary libraries.\n",
        "import csv\n",
        "import pandas as pd\n",
        "import matplotlib.pyplot as plt\n",
        "import seaborn as sns\n",
        "\n",
        "from google.colab import drive\n",
        "drive.mount(\"/content/drive\")\n",
        "\n",
        "# Load the Dataset\n",
        "file_path = '/content/drive/My Drive/datasets/game_recs/recommendations.csv'\n",
        "data = pd.read_csv(file_path, delimiter=',', on_bad_lines='skip')\n",
        "\n",
        "# Display first few rows and dataset info\n",
        "print(\"Data head\")\n",
        "print(data.head())\n",
        "print(\"\\n\\n\")\n",
        "print(\"Data info\")\n",
        "print(data.info())"
      ],
      "metadata": {
        "colab": {
          "base_uri": "https://localhost:8080/"
        },
        "id": "okKbHk3-BWA0",
        "outputId": "13be23ab-ac74-4abb-ba88-3f7e2d9b8609"
      },
      "execution_count": 43,
      "outputs": [
        {
          "output_type": "stream",
          "name": "stdout",
          "text": [
            "Drive already mounted at /content/drive; to attempt to forcibly remount, call drive.mount(\"/content/drive\", force_remount=True).\n"
          ]
        },
        {
          "output_type": "stream",
          "name": "stderr",
          "text": [
            "<ipython-input-43-3467b3121550>:12: DtypeWarning: Columns (0,1,4) have mixed types. Specify dtype option on import or set low_memory=False.\n",
            "  data = pd.read_csv(file_path, delimiter=',', on_bad_lines='skip')\n"
          ]
        },
        {
          "output_type": "stream",
          "name": "stdout",
          "text": [
            "Data head\n",
            "    app_id helpful  funny        date is_recommended  hours   user_id  \\\n",
            "0   975370       0    0.0  2022-12-12           True   36.3   51580.0   \n",
            "1   304390       4    0.0  2017-02-17          False   11.5    2586.0   \n",
            "2  1085660       2    0.0  2019-11-17           True  336.5  253880.0   \n",
            "3   703080       0    0.0  2022-09-23           True   27.4  259432.0   \n",
            "4   526870       0    0.0  2021-01-10           True    7.9   23869.0   \n",
            "\n",
            "   review_id  \n",
            "0        0.0  \n",
            "1        1.0  \n",
            "2        2.0  \n",
            "3        3.0  \n",
            "4        4.0  \n",
            "\n",
            "\n",
            "\n",
            "Data info\n",
            "<class 'pandas.core.frame.DataFrame'>\n",
            "RangeIndex: 3513134 entries, 0 to 3513133\n",
            "Data columns (total 8 columns):\n",
            " #   Column          Dtype  \n",
            "---  ------          -----  \n",
            " 0   app_id          object \n",
            " 1   helpful         object \n",
            " 2   funny           float64\n",
            " 3   date            object \n",
            " 4   is_recommended  object \n",
            " 5   hours           float64\n",
            " 6   user_id         float64\n",
            " 7   review_id       float64\n",
            "dtypes: float64(4), object(4)\n",
            "memory usage: 214.4+ MB\n",
            "None\n"
          ]
        }
      ]
    },
    {
      "cell_type": "code",
      "source": [
        "# Check for missing values\n",
        "print(\"Missing values\")\n",
        "print(data.isnull().sum())\n",
        "\n",
        "# Basic stats for # columns\n",
        "print(\"\\n\\n\")\n",
        "print(\"Basic stats for numerical columns\")\n",
        "print(data.describe())"
      ],
      "metadata": {
        "colab": {
          "base_uri": "https://localhost:8080/"
        },
        "id": "i93jONFCHrjX",
        "outputId": "49b37207-e295-4ffd-ac38-763a3328f8db"
      },
      "execution_count": 44,
      "outputs": [
        {
          "output_type": "stream",
          "name": "stdout",
          "text": [
            "Missing values\n",
            "app_id             0\n",
            "helpful            2\n",
            "funny             10\n",
            "date              12\n",
            "is_recommended    16\n",
            "hours             24\n",
            "user_id           30\n",
            "review_id         39\n",
            "dtype: int64\n",
            "\n",
            "\n",
            "\n",
            "Basic stats for numerical columns\n",
            "              funny         hours       user_id     review_id\n",
            "count  3.513124e+06  3.513110e+06  3.513104e+06  3.513095e+06\n",
            "mean   1.503962e+00  2.024429e+02  7.280668e+06  6.005821e+05\n",
            "std    4.812376e+02  1.074025e+03  4.175900e+06  3.382727e+05\n",
            "min    0.000000e+00  0.000000e+00  2.000000e+00  0.000000e+00\n",
            "25%    0.000000e+00  3.100000e+01  3.851423e+06  3.078160e+05\n",
            "50%    0.000000e+00  1.003000e+02  7.222203e+06  6.005830e+05\n",
            "75%    0.000000e+00  2.848000e+02  1.110101e+07  8.933485e+05\n",
            "max    6.362570e+05  1.136152e+06  1.153374e+09  8.767845e+06\n"
          ]
        }
      ]
    },
    {
      "cell_type": "code",
      "source": [
        "# Standardize is_recommend values to eliminate data corruption\n",
        "data['is_recommended'] = data['is_recommended'].str.lower()\n",
        "data['is_recommended'] = data['is_recommended'].map({'true': True, 'false': False})\n",
        "data = data.dropna(subset=['is_recommended'])\n",
        "\n",
        "# Display the is_recommended values after standardization\n",
        "print(data['is_recommended'].value_counts())\n",
        "print(\"\\n\\n\")\n",
        "# Display Percentages\n",
        "percen = data['is_recommended'].value_counts(normalize=True)*100\n",
        "percen = percen.map(lambda x: f\"%{x:.6f}\")\n",
        "print(percen)"
      ],
      "metadata": {
        "colab": {
          "base_uri": "https://localhost:8080/"
        },
        "id": "VwRPMkhzI-Mb",
        "outputId": "41d9e69a-f647-493e-8783-a63ca5366279"
      },
      "execution_count": 45,
      "outputs": [
        {
          "output_type": "stream",
          "name": "stdout",
          "text": [
            "is_recommended\n",
            "True     664823\n",
            "False    121595\n",
            "Name: count, dtype: int64\n",
            "\n",
            "\n",
            "\n",
            "is_recommended\n",
            "True     %84.538121\n",
            "False    %15.461879\n",
            "Name: proportion, dtype: object\n"
          ]
        }
      ]
    }
  ]
}